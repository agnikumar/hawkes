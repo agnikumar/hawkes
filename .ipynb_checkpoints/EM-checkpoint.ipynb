{
 "cells": [
  {
   "cell_type": "markdown",
   "metadata": {},
   "source": [
    "## Expectation Maximization (EM)"
   ]
  },
  {
   "cell_type": "code",
   "execution_count": 2,
   "metadata": {},
   "outputs": [],
   "source": [
    "import numpy as np\n",
    "import time as T\n",
    "\n",
    "from sklearn.metrics.pairwise import pairwise_distances\n",
    "from sklearn.utils.extmath import cartesian\n",
    "\n",
    "import matplotlib.pyplot as plt"
   ]
  },
  {
   "cell_type": "code",
   "execution_count": 2,
   "metadata": {},
   "outputs": [],
   "source": [
    "class MHP:\n",
    "    def __init__(self, alpha=[[0.5]], mu=[0.1], omega=1.0):\n",
    "        '''\n",
    "        params should be of form\n",
    "        alpha: numpy.array((u,u)), mu: numpy.array((,u)), omega: float\n",
    "        '''\n",
    "        \n",
    "        self.data = []\n",
    "        self.alpha, self.mu, self.omega = np.array(alpha), np.array(mu), omega\n",
    "        self.dim = self.mu.shape[0]\n",
    "        self.check_stability()\n",
    "\n",
    "    def check_stability(self):\n",
    "        '''\n",
    "        check stability of process (max alpha eigenvalue < 1)\n",
    "        '''\n",
    "        w,v = np.linalg.eig(self.alpha)\n",
    "        me = np.amax(np.abs(w))\n",
    "        print('Max eigenvalue: %1.5f' % me)\n",
    "        if me >= 1.:\n",
    "            print('(WARNING) Unstable.')"
   ]
  },
  {
   "cell_type": "markdown",
   "metadata": {},
   "source": [
    "### Generating simulated data"
   ]
  },
  {
   "cell_type": "code",
   "execution_count": 3,
   "metadata": {},
   "outputs": [],
   "source": [
    "class MHP(MHP): # for Jupyter notebook\n",
    "    \n",
    "    def generate_seq(self, horizon):\n",
    "        '''\n",
    "        Generate a sequence based on mu, alpha, omega values. \n",
    "        Uses Ogata's thinning method, with some speedups, noted below\n",
    "        '''\n",
    "\n",
    "        self.data = []  # clear history\n",
    "\n",
    "        Istar = np.sum(self.mu)\n",
    "        s = np.random.exponential(scale=1./Istar)\n",
    "\n",
    "        # attribute (weighted random sample, since sum(mu)==Istar)\n",
    "        n0 = np.random.choice(np.arange(self.dim), \n",
    "                              1, \n",
    "                              p=(self.mu / Istar))\n",
    "        self.data.append([s, n0])\n",
    "\n",
    "        # value of \\lambda(t_k) where k is most recent event\n",
    "        # starts with just the base rate\n",
    "        lastrates = self.mu.copy()\n",
    "\n",
    "        decIstar = False\n",
    "        while True:\n",
    "            tj, uj = self.data[-1][0], int(self.data[-1][1])\n",
    "\n",
    "            if decIstar:\n",
    "                # if last event was rejected, decrease Istar\n",
    "                Istar = np.sum(rates)\n",
    "                decIstar = False\n",
    "            else:\n",
    "                # otherwise, we just had an event, so recalc Istar (inclusive of last event)\n",
    "                Istar = np.sum(lastrates) + \\\n",
    "                        self.omega * np.sum(self.alpha[:,uj])\n",
    "\n",
    "            # generate new event\n",
    "            s += np.random.exponential(scale=1./Istar)\n",
    "\n",
    "            # calc rates at time s (use trick to take advantage of rates at last event)\n",
    "            rates = self.mu + np.exp(-self.omega * (s - tj)) * \\\n",
    "                    (self.alpha[:,uj].flatten() * self.omega + lastrates - self.mu)\n",
    "\n",
    "            # attribution/rejection test\n",
    "            # handle attribution and thinning in one step as weighted random sample\n",
    "            diff = Istar - np.sum(rates)\n",
    "            try:\n",
    "                n0 = np.random.choice(np.arange(self.dim+1), 1, \n",
    "                                      p=(np.append(rates, diff) / Istar))\n",
    "            except ValueError:\n",
    "                # by construction this should not happen\n",
    "                print('Probabilities do not sum to one.')\n",
    "                self.data = np.array(self.data)\n",
    "                return self.data\n",
    "\n",
    "            if n0 < self.dim:\n",
    "                self.data.append([s, n0])\n",
    "                # update lastrates\n",
    "                lastrates = rates.copy()\n",
    "            else:\n",
    "                decIstar = True\n",
    "\n",
    "            # if past horizon, done\n",
    "            if s >= horizon:\n",
    "                self.data = np.array(self.data)\n",
    "                self.data = self.data[self.data[:,0] < horizon]\n",
    "                return self.data"
   ]
  },
  {
   "cell_type": "markdown",
   "metadata": {},
   "source": [
    "### EM learning"
   ]
  },
  {
   "cell_type": "code",
   "execution_count": 4,
   "metadata": {},
   "outputs": [],
   "source": [
    "class MHP(MHP): # for Jupyter notebook\n",
    "    \n",
    "    def EM(self, Ahat, mhat, omega, seq=[], smx=None, tmx=None, regularize=False, \n",
    "           Tm=-1, maxiter=100, epsilon=0.01, verbose=True):\n",
    "        '''\n",
    "        implements MAP EM. Optional to regularize with `smx` and `tmx` matrix (shape=(dim,dim)).\n",
    "        In general, the `tmx` matrix is a pseudocount of parent events from column j,\n",
    "        and the `smx` matrix is a pseudocount of child events from column j -> i\n",
    "        '''\n",
    "        \n",
    "        # if no sequence passed, uses class instance data\n",
    "        if len(seq) == 0:\n",
    "            seq = self.data\n",
    "\n",
    "        N = len(seq)\n",
    "        dim = mhat.shape[0]\n",
    "        Tm = float(seq[-1,0]) if Tm < 0 else float(Tm)\n",
    "        sequ = seq[:,1].astype(int)\n",
    "\n",
    "        p_ii = np.random.uniform(0.01, 0.99, size=N)\n",
    "        p_ij = np.random.uniform(0.01, 0.99, size=(N, N))\n",
    "\n",
    "        # PRECOMPUTATIONS\n",
    "\n",
    "        # diffs[i,j] = t_i - t_j for j < i (o.w. zero)\n",
    "        diffs = pairwise_distances(np.array([seq[:,0]]).T, metric = 'euclidean')\n",
    "        diffs[np.triu_indices(N)] = 0\n",
    "\n",
    "        # kern[i,j] = omega*np.exp(-omega*diffs[i,j])\n",
    "        kern = omega*np.exp(-omega*diffs)\n",
    "\n",
    "        colidx = np.tile(sequ.reshape((1,N)), (N,1))\n",
    "        rowidx = np.tile(sequ.reshape((N,1)), (1,N))\n",
    "\n",
    "        # approx of Gt sum in a_{uu'} denom\n",
    "        seqcnts = np.array([len(np.where(sequ==i)[0]) for i in range(dim)])\n",
    "        seqcnts = np.tile(seqcnts, (dim,1))\n",
    "\n",
    "        # returns sum of all pmat vals where u_i=a, u_j=b\n",
    "        # *IF* pmat upper tri set to zero, this is \n",
    "        # \\sum_{u_i=u}\\sum_{u_j=u', j<i} p_{ij}\n",
    "        def sum_pij(a,b):\n",
    "            c = cartesian([np.where(seq[:,1]==int(a))[0], np.where(seq[:,1]==int(b))[0]])\n",
    "            return np.sum(p_ij[c[:,0], c[:,1]])\n",
    "        vp = np.vectorize(sum_pij)\n",
    "\n",
    "        # \\int_0^t g(t') dt' with g(t)=we^{-wt}\n",
    "        # def G(t): return 1 - np.exp(-omega * t)\n",
    "        #   vg = np.vectorize(G)\n",
    "        # Gdenom = np.array([np.sum(vg(diffs[-1,np.where(seq[:,1]==i)])) for i in range(dim)])\n",
    "\n",
    "        k = 0\n",
    "        old_LL = -10000\n",
    "        START = T.time()\n",
    "        while k < maxiter:\n",
    "            Auu = Ahat[rowidx, colidx]\n",
    "            ag = np.multiply(Auu, kern)\n",
    "            ag[np.triu_indices(N)] = 0\n",
    "\n",
    "            # compute m_{u_i}\n",
    "            mu = mhat[sequ]\n",
    "\n",
    "            # compute total rates of u_i at time i\n",
    "            rates = mu + np.sum(ag, axis=1)\n",
    "\n",
    "            # compute matrix of p_ii and p_ij  (keep separate for later computations)\n",
    "            p_ij = np.divide(ag, np.tile(np.array([rates]).T, (1,N)))\n",
    "            p_ii = np.divide(mu, rates)\n",
    "\n",
    "            # compute mhat:  mhat_u = (\\sum_{u_i=u} p_ii) / T\n",
    "            mhat = np.array([np.sum(p_ii[np.where(seq[:,1]==i)]) \\\n",
    "                             for i in range(dim)]) / Tm\n",
    "\n",
    "            # ahat_{u,u'} = (\\sum_{u_i=u}\\sum_{u_j=u', j<i} p_ij) / \\sum_{u_j=u'} G(T-t_j)\n",
    "            # approximate with G(T-T_j) = 1\n",
    "            if regularize:\n",
    "                Ahat = np.divide(np.fromfunction(lambda i,j: vp(i,j), (dim,dim)) + (smx-1),\n",
    "                                 seqcnts + tmx)\n",
    "            else:\n",
    "                Ahat = np.divide(np.fromfunction(lambda i,j: vp(i,j), (dim,dim)),\n",
    "                                 seqcnts)\n",
    "\n",
    "            if k % 10 == 0:\n",
    "                try:\n",
    "                    term1 = np.sum(np.log(rates))\n",
    "                except:\n",
    "                    print('Log error!')\n",
    "                term2 = Tm * np.sum(mhat)\n",
    "                term3 = np.sum(np.sum(Ahat[u,int(seq[j,1])] for j in range(N)) for u in range(dim))\n",
    "                #new_LL = (1./N) * (term1 - term2 - term3)\n",
    "                new_LL = (1./N) * (term1 - term3)\n",
    "                if abs(new_LL - old_LL) <= epsilon:\n",
    "                    if verbose:\n",
    "                        print('Reached stopping criterion. (Old: %1.3f New: %1.3f)' % (old_LL, new_LL))\n",
    "                    return Ahat, mhat\n",
    "                if verbose:\n",
    "                    print('After ITER %d (old: %1.3f new: %1.3f)' % (k, old_LL, new_LL))\n",
    "                    print(' terms %1.4f, %1.4f, %1.4f' % (term1, term2, term3))\n",
    "\n",
    "                old_LL = new_LL\n",
    "\n",
    "            k += 1\n",
    "\n",
    "        if verbose:\n",
    "            print('Reached max iter (%d).' % maxiter)\n",
    "\n",
    "        self.Ahat = Ahat\n",
    "        self.mhat = mhat\n",
    "        return Ahat, mhat"
   ]
  },
  {
   "cell_type": "markdown",
   "metadata": {},
   "source": [
    "### Visualization"
   ]
  },
  {
   "cell_type": "code",
   "execution_count": 5,
   "metadata": {},
   "outputs": [],
   "source": [
    "class MHP(MHP): # for Jupyter notebook\n",
    "    \n",
    "    def get_rate(self, ct, d):\n",
    "        # return rate at time ct in dimension d\n",
    "        seq = np.array(self.data)\n",
    "        if not np.all(ct > seq[:,0]): seq = seq[seq[:,0] < ct]\n",
    "        return self.mu[d] + \\\n",
    "            np.sum([self.alpha[d,int(j)]*self.omega*np.exp(-self.omega*(ct-t)) for t,j in seq])"
   ]
  },
  {
   "cell_type": "code",
   "execution_count": 6,
   "metadata": {},
   "outputs": [],
   "source": [
    "class MHP(MHP): # for Jupyter notebook\n",
    "    \n",
    "    def plot_rates(self, horizon=-1):\n",
    "\n",
    "        if horizon < 0:\n",
    "            horizon = np.amax(self.data[:,0])\n",
    "\n",
    "        f, axarr = plt.subplots(self.dim*2,1, sharex='col', \n",
    "                                gridspec_kw = {'height_ratios':sum([[3,1] for i in range(self.dim)],[])}, \n",
    "                                figsize=(8,self.dim*2))\n",
    "        xs = np.linspace(0, horizon, (horizon/100.)*1000)\n",
    "        for i in range(self.dim):\n",
    "            row = i * 2\n",
    "\n",
    "            # plot rate\n",
    "            r = [self.get_rate(ct, i) for ct in xs]\n",
    "            axarr[row].plot(xs, r, 'k-')\n",
    "            axarr[row].set_ylim([-0.01, np.amax(r)+(np.amax(r)/2.)])\n",
    "            axarr[row].set_ylabel('$\\lambda(t)_{%d}$' % i, fontsize=14)\n",
    "            r = []\n",
    "\n",
    "            # plot events\n",
    "            subseq = self.data[self.data[:,1]==i][:,0]\n",
    "            axarr[row+1].plot(subseq, np.zeros(len(subseq)) - 0.5, 'bo', alpha=0.2)\n",
    "            axarr[row+1].yaxis.set_visible(False)\n",
    "\n",
    "            axarr[row+1].set_xlim([0, horizon])\n",
    "\n",
    "        plt.tight_layout()"
   ]
  },
  {
   "cell_type": "code",
   "execution_count": 7,
   "metadata": {},
   "outputs": [],
   "source": [
    "class MHP(MHP): # for Jupyter notebook\n",
    "    \n",
    "    def plot_events(self, horizon=-1, showDays=True, labeled=True):\n",
    "        if horizon < 0:\n",
    "            horizon = np.amax(self.data[:,0])\n",
    "\n",
    "        fig = plt.figure(figsize=(10,2))\n",
    "        ax = plt.gca()\n",
    "        for i in range(self.dim):\n",
    "            subseq = self.data[self.data[:,1]==i][:,0]\n",
    "            plt.plot(subseq, np.zeros(len(subseq)) - i, 'bo', alpha=0.2)\n",
    "\n",
    "        if showDays:\n",
    "            for j in range(1,int(horizon)):\n",
    "                plt.plot([j,j], [-self.dim, 1], 'k:', alpha=0.15)\n",
    "\n",
    "        if labeled:\n",
    "            ax.set_yticklabels('')\n",
    "            ax.set_yticks(-np.arange(0, self.dim), minor=True)\n",
    "            ax.set_yticklabels([r'$e_{%d}$' % i for i in range(self.dim)], minor=True)\n",
    "        else:\n",
    "            ax.yaxis.set_visible(False)\n",
    "\n",
    "        ax.set_xlim([0,horizon])\n",
    "        ax.set_ylim([-self.dim, 1])\n",
    "        ax.set_xlabel('Days')\n",
    "        plt.tight_layout()"
   ]
  },
  {
   "cell_type": "markdown",
   "metadata": {},
   "source": [
    "### Experimentation"
   ]
  },
  {
   "cell_type": "code",
   "execution_count": 14,
   "metadata": {},
   "outputs": [
    {
     "name": "stdout",
     "output_type": "stream",
     "text": [
      "Max eigenvalue: 0.50000\n"
     ]
    },
    {
     "data": {
      "text/plain": [
       "array([[ 4.38242637,  0.        ],\n",
       "       [ 7.4748996 ,  0.        ],\n",
       "       [11.76407803,  0.        ],\n",
       "       [32.01678257,  0.        ],\n",
       "       [47.71318107,  0.        ],\n",
       "       [47.99891386,  0.        ],\n",
       "       [48.24026864,  0.        ]])"
      ]
     },
     "execution_count": 14,
     "metadata": {},
     "output_type": "execute_result"
    }
   ],
   "source": [
    "P = MHP()\n",
    "P.generate_seq(60)"
   ]
  },
  {
   "cell_type": "code",
   "execution_count": 15,
   "metadata": {},
   "outputs": [
    {
     "data": {
      "image/png": "[encoded data removed]",
      "text/plain": [
       "<matplotlib.figure.Figure at 0x7f50d1643da0>"
      ]
     },
     "metadata": {},
     "output_type": "display_data"
    }
   ],
   "source": [
    "P.plot_events()"
   ]
  },
  {
   "cell_type": "code",
   "execution_count": 16,
   "metadata": {},
   "outputs": [
    {
     "name": "stdout",
     "output_type": "stream",
     "text": [
      "Max eigenvalue: 0.10000\n"
     ]
    },
    {
     "data": {
      "image/png": "[encoded data removed]",
      "text/plain": [
       "<matplotlib.figure.Figure at 0x7f50d3ba1be0>"
      ]
     },
     "metadata": {},
     "output_type": "display_data"
    }
   ],
   "source": [
    "m = np.array([0.2, 0.0, 0.0])\n",
    "a = np.array([[0.1, 0.0, 0.0], \n",
    "              [0.9, 0.0, 0.0],\n",
    "              [0.0, 0.9, 0.0]])\n",
    "w = 3.1\n",
    "\n",
    "P = MHP(mu=m, alpha=a, omega=w)\n",
    "P.generate_seq(60)\n",
    "P.plot_events()"
   ]
  },
  {
   "cell_type": "code",
   "execution_count": 13,
   "metadata": {},
   "outputs": [
    {
     "name": "stderr",
     "output_type": "stream",
     "text": [
      "/opt/miniconda3/envs/sugar/lib/python3.6/site-packages/ipykernel_launcher.py:11: DeprecationWarning: object of type <class 'numpy.float64'> cannot be safely interpreted as an integer.\n",
      "  # This is added back by InteractiveShellApp.init_path()\n"
     ]
    },
    {
     "data": {
      "image/png": "[encoded data removed]",
      "text/plain": [
       "<matplotlib.figure.Figure at 0x7f50d16cd400>"
      ]
     },
     "metadata": {},
     "output_type": "display_data"
    }
   ],
   "source": [
    "P.plot_rates()"
   ]
  },
  {
   "cell_type": "code",
   "execution_count": 17,
   "metadata": {},
   "outputs": [
    {
     "name": "stdout",
     "output_type": "stream",
     "text": [
      "[[0.75287618 0.06961372 0.45038138]\n",
      " [0.77744035 0.92297796 0.05151437]\n",
      " [0.44957291 0.67244717 0.99996068]]\n",
      "[0.65141776 0.42090456 0.28800789]\n",
      "After ITER 0 (old: -10000.000 new: 0.020)\n",
      " terms 28.7473, 18.1688, 27.8312\n",
      "After ITER 10 (old: 0.020 new: -0.912)\n",
      " terms -11.5746, 15.6289, 30.3711\n",
      "Reached stopping criterion. (Old: -0.912 New: -0.914)\n"
     ]
    },
    {
     "data": {
      "text/plain": [
       "(array([[8.77820309e-02, 6.26445852e-02, 2.38423300e-05],\n",
       "        [7.56812083e-01, 8.44428113e-02, 8.51848692e-03],\n",
       "        [1.28190540e-07, 7.42972249e-01, 1.42724151e-01]]),\n",
       " array([2.64272200e-01, 7.56635564e-14, 1.87063452e-16]))"
      ]
     },
     "execution_count": 17,
     "metadata": {},
     "output_type": "execute_result"
    }
   ],
   "source": [
    "mhat = np.random.uniform(0,1, size=3)\n",
    "ahat = np.random.uniform(0,1, size=(3,3))\n",
    "w = 3.\n",
    "\n",
    "print(ahat)\n",
    "print(mhat)\n",
    "\n",
    "P.EM(ahat, mhat, w)"
   ]
  },
  {
   "cell_type": "code",
   "execution_count": null,
   "metadata": {},
   "outputs": [],
   "source": []
  }
 ],
 "metadata": {
  "kernelspec": {
   "display_name": "Python 3",
   "language": "python",
   "name": "python3"
  },
  "language_info": {
   "codemirror_mode": {
    "name": "ipython",
    "version": 3
   },
   "file_extension": ".py",
   "mimetype": "text/x-python",
   "name": "python",
   "nbconvert_exporter": "python",
   "pygments_lexer": "ipython3",
   "version": "3.6.4"
  }
 },
 "nbformat": 4,
 "nbformat_minor": 2
}
