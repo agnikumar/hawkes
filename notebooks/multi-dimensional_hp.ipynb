{
 "cells": [
  {
   "cell_type": "markdown",
   "metadata": {},
   "source": [
    "A **univariate** Hawkes process can be defined by the conditional intensity function\n",
    "\n",
    "$$\n",
    "\\begin{align}\n",
    "\\lambda(t) &= \\mu + \\sum_{t_i < t} \\phi(t - t_i) \\\\\n",
    "\\phi(x) &= \\alpha \\beta \\exp (-\\beta x ),\n",
    "\\end{align}\n",
    "$$\n",
    "\n",
    "where $\\mu(t)$ is the background rate of event happening, the kernel $\\phi(t)$ measures influence from the history, $\\beta$ is the decay rate, and $\\alpha$ is the size of the self-excited jumps.\n",
    "\n",
    "A **multivariate** Hawkes process can be defined by the conditional intensity function\n",
    "\n",
    "$$\n",
    "\\begin{align}\n",
    "\\lambda_k(t) &= \\mu_k + \\sum_{l} \\sum_{t_i < t, c_i \\in l} \\phi_{l,k} (t - t_i)) \\\\\n",
    "\\phi(x) &= A_{l,k} \\beta \\exp (-\\beta x ),\n",
    "\\end{align}\n",
    "$$\n",
    "\n",
    "where $\\mu(t)$ is the background rate of event happening, the kernel $\\phi(t)$ measures influence from the history, $\\beta$ is the decay rate, and $\\alpha$ is the size of the self-excited jumps. ${(t_i, c_i)}$ are the observed data, where $t_i \\in \\mathbb{R}+$ are the timestamps, and $c_i \\in \\{0, 1, ..., K\\}$ are identifiers for which process a given occurrence belongs to. Furthermore, $l, k  \\in \\{0, 1, ..., K\\}$, and $A$ is infectivity matrix ($A_{l,k}$ is interpretable as the expected number of further type-$k$ events that will be caused by events of type $l$)."
   ]
  },
  {
   "cell_type": "code",
   "execution_count": 37,
   "metadata": {},
   "outputs": [],
   "source": [
    "%matplotlib inline\n",
    "import numpy as np\n",
    "import pandas as pd\n",
    "import seaborn as sns\n",
    "from matplotlib import pyplot as plt"
   ]
  },
  {
   "cell_type": "markdown",
   "metadata": {},
   "source": [
    "### Loading data"
   ]
  },
  {
   "cell_type": "code",
   "execution_count": 4,
   "metadata": {},
   "outputs": [
    {
     "name": "stdout",
     "output_type": "stream",
     "text": [
      "41 total units\n"
     ]
    },
    {
     "data": {
      "text/html": [
       "<div>\n",
       "<style scoped>\n",
       "    .dataframe tbody tr th:only-of-type {\n",
       "        vertical-align: middle;\n",
       "    }\n",
       "\n",
       "    .dataframe tbody tr th {\n",
       "        vertical-align: top;\n",
       "    }\n",
       "\n",
       "    .dataframe thead th {\n",
       "        text-align: right;\n",
       "    }\n",
       "</style>\n",
       "<table border=\"1\" class=\"dataframe\">\n",
       "  <thead>\n",
       "    <tr style=\"text-align: right;\">\n",
       "      <th></th>\n",
       "      <th>time</th>\n",
       "      <th>unit</th>\n",
       "    </tr>\n",
       "  </thead>\n",
       "  <tbody>\n",
       "    <tr>\n",
       "      <th>0</th>\n",
       "      <td>224.0</td>\n",
       "      <td>E08</td>\n",
       "    </tr>\n",
       "    <tr>\n",
       "      <th>1</th>\n",
       "      <td>8.0</td>\n",
       "      <td>E04</td>\n",
       "    </tr>\n",
       "    <tr>\n",
       "      <th>2</th>\n",
       "      <td>349.0</td>\n",
       "      <td>E09</td>\n",
       "    </tr>\n",
       "    <tr>\n",
       "      <th>3</th>\n",
       "      <td>100.0</td>\n",
       "      <td>B07</td>\n",
       "    </tr>\n",
       "    <tr>\n",
       "      <th>4</th>\n",
       "      <td>169.0</td>\n",
       "      <td>P20</td>\n",
       "    </tr>\n",
       "  </tbody>\n",
       "</table>\n",
       "</div>"
      ],
      "text/plain": [
       "    time unit\n",
       "0  224.0  E08\n",
       "1    8.0  E04\n",
       "2  349.0  E09\n",
       "3  100.0  B07\n",
       "4  169.0  P20"
      ]
     },
     "execution_count": 4,
     "metadata": {},
     "output_type": "execute_result"
    }
   ],
   "source": [
    "d_one = pd.read_csv('event_times_ond_d_1314_ds0_one.csv')\n",
    "d_all = pd.read_csv('event_times_ond_d_1314_ds0_all.csv')\n",
    "\n",
    "print(d_one['unit'].nunique(), \"total units\")\n",
    "d_one.head()"
   ]
  },
  {
   "cell_type": "code",
   "execution_count": 5,
   "metadata": {},
   "outputs": [
    {
     "name": "stdout",
     "output_type": "stream",
     "text": [
      "Number of units with lots of events (d_one): 14\n",
      "Number of units with lots of events (d_all): 16\n"
     ]
    },
    {
     "data": {
      "text/html": [
       "<div>\n",
       "<style scoped>\n",
       "    .dataframe tbody tr th:only-of-type {\n",
       "        vertical-align: middle;\n",
       "    }\n",
       "\n",
       "    .dataframe tbody tr th {\n",
       "        vertical-align: top;\n",
       "    }\n",
       "\n",
       "    .dataframe thead th {\n",
       "        text-align: right;\n",
       "    }\n",
       "</style>\n",
       "<table border=\"1\" class=\"dataframe\">\n",
       "  <thead>\n",
       "    <tr style=\"text-align: right;\">\n",
       "      <th></th>\n",
       "      <th>time</th>\n",
       "      <th>unit</th>\n",
       "      <th>unit_num</th>\n",
       "      <th>frequency</th>\n",
       "    </tr>\n",
       "  </thead>\n",
       "  <tbody>\n",
       "    <tr>\n",
       "      <th>3</th>\n",
       "      <td>100.0</td>\n",
       "      <td>B07</td>\n",
       "      <td>1</td>\n",
       "      <td>52</td>\n",
       "    </tr>\n",
       "    <tr>\n",
       "      <th>4</th>\n",
       "      <td>169.0</td>\n",
       "      <td>P20</td>\n",
       "      <td>32</td>\n",
       "      <td>84</td>\n",
       "    </tr>\n",
       "    <tr>\n",
       "      <th>5</th>\n",
       "      <td>457.0</td>\n",
       "      <td>W11</td>\n",
       "      <td>40</td>\n",
       "      <td>45</td>\n",
       "    </tr>\n",
       "    <tr>\n",
       "      <th>6</th>\n",
       "      <td>308.0</td>\n",
       "      <td>P20</td>\n",
       "      <td>32</td>\n",
       "      <td>84</td>\n",
       "    </tr>\n",
       "    <tr>\n",
       "      <th>7</th>\n",
       "      <td>282.0</td>\n",
       "      <td>P20</td>\n",
       "      <td>32</td>\n",
       "      <td>84</td>\n",
       "    </tr>\n",
       "  </tbody>\n",
       "</table>\n",
       "</div>"
      ],
      "text/plain": [
       "    time unit  unit_num  frequency\n",
       "3  100.0  B07         1         52\n",
       "4  169.0  P20        32         84\n",
       "5  457.0  W11        40         45\n",
       "6  308.0  P20        32         84\n",
       "7  282.0  P20        32         84"
      ]
     },
     "execution_count": 5,
     "metadata": {},
     "output_type": "execute_result"
    }
   ],
   "source": [
    "# Obtaining units with >= 30 events\n",
    "\n",
    "df_one_aug, df_all_aug = d_one, d_all\n",
    "df_one_aug['unit_num'], df_all_aug['unit_num'] = pd.Categorical(d_one.unit).codes, pd.Categorical(d_all.unit).codes\n",
    "#sorted_df_one_aug = df_one_aug.sort_values(by=['unit_num'])\n",
    "#sorted_df_all_aug = df_all_aug.sort_values(by=['unit_num'])\n",
    "df_one_aug_freq = df_one_aug.join(df_one_aug['unit_num'].value_counts().rename('frequency'), on='unit_num')\n",
    "df_all_aug_freq = df_all_aug.join(df_all_aug['unit_num'].value_counts().rename('frequency'), on='unit_num')\n",
    "\n",
    "threshold = 30\n",
    "df_one_aug_freq_selected = df_one_aug_freq[df_one_aug_freq['frequency'] >= threshold] \n",
    "df_all_aug_freq_selected = df_all_aug_freq[df_all_aug_freq['frequency'] >= threshold]\n",
    "\n",
    "num_selected_units_one = df_one_aug_freq_selected['unit'].nunique()\n",
    "num_selected_units_all = df_all_aug_freq_selected['unit'].nunique()\n",
    "print('Number of units with lots of events (d_one):', num_selected_units_one)\n",
    "print('Number of units with lots of events (d_all):', num_selected_units_all)\n",
    "\n",
    "df_one_aug_freq_selected.head()"
   ]
  },
  {
   "cell_type": "code",
   "execution_count": 6,
   "metadata": {},
   "outputs": [
    {
     "name": "stdout",
     "output_type": "stream",
     "text": [
      "Mapping (one), with frequency\n",
      "   unit  frequency\n",
      "0   B07         52\n",
      "1   B12         36\n",
      "2   E16         49\n",
      "3   E19         32\n",
      "4   G09         34\n",
      "5   G11         52\n",
      "6   L09         48\n",
      "7   L10         66\n",
      "8   P20         84\n",
      "9   P22         31\n",
      "10  W08         50\n",
      "11  W09         45\n",
      "12  W10         42\n",
      "13  W11         45\n",
      "Mapping (all), with frequency\n",
      "   unit  frequency\n",
      "0   B06         30\n",
      "1   B07         57\n",
      "2   B12         36\n",
      "3   E16         50\n",
      "4   E19         33\n",
      "5   EMD        228\n",
      "6   G09         34\n",
      "7   G11         52\n",
      "8   L09         51\n",
      "9   L10         66\n",
      "10  P20         84\n",
      "11  P22         32\n",
      "12  W08         51\n",
      "13  W09         45\n",
      "14  W10         43\n",
      "15  W11         45\n"
     ]
    }
   ],
   "source": [
    "# Mapping of unit names to numerical labels\n",
    "mapping_one = df_one_aug_freq_selected.groupby(['unit', 'unit_num']).size().reset_index(name='frequency')[['unit', 'unit_num']]\n",
    "mapping_all = df_all_aug_freq_selected.groupby(['unit', 'unit_num']).size().reset_index(name='frequency')[['unit', 'unit_num']]\n",
    "\n",
    "# Mapping of unit names to numerical labels, with event frequencies \n",
    "\n",
    "mapping_one_freq = df_one_aug_freq_selected.groupby(['unit', 'frequency']).size().reset_index(name='freq')[['unit', 'frequency']]\n",
    "mapping_all_freq = df_all_aug_freq_selected.groupby(['unit', 'frequency']).size().reset_index(name='freq')[['unit', 'frequency']]\n",
    "                                                                                                           \n",
    "'''\n",
    "print('Mapping (one)')\n",
    "print(mapping_one)\n",
    "print('Mapping (all)')\n",
    "print(mapping_all)\n",
    "'''\n",
    "\n",
    "print('Mapping (one), with frequency')\n",
    "print(mapping_one_freq)\n",
    "print('Mapping (all), with frequency')\n",
    "print(mapping_all_freq)"
   ]
  },
  {
   "cell_type": "code",
   "execution_count": 7,
   "metadata": {},
   "outputs": [
    {
     "name": "stdout",
     "output_type": "stream",
     "text": [
      "(666, 4)\n",
      "(937, 4)\n"
     ]
    }
   ],
   "source": [
    "print(df_one_aug_freq_selected.shape)\n",
    "print(df_all_aug_freq_selected.shape)"
   ]
  },
  {
   "cell_type": "markdown",
   "metadata": {},
   "source": [
    "### Univariate"
   ]
  },
  {
   "cell_type": "code",
   "execution_count": 8,
   "metadata": {},
   "outputs": [],
   "source": [
    "from hawkeslib import UnivariateExpHawkesProcess as UVHP"
   ]
  },
  {
   "cell_type": "code",
   "execution_count": 9,
   "metadata": {},
   "outputs": [],
   "source": [
    "def run_univariate(df):\n",
    "    grouped = list(df.groupby(['unit']))\n",
    "    dict_unit_params, dict_timestamps = {}, {}\n",
    "    mu_list, alpha_list, omega_list = [], [], []\n",
    "    for i in range(len(grouped)):\n",
    "        unit = grouped[i][0]\n",
    "        timestamps = grouped[i][1]['time'].values\n",
    "        uv = UVHP()\n",
    "        uv.fit(np.sort(timestamps), method=\"em\")\n",
    "        mu, alpha, omega = uv.get_params()\n",
    "        mu_list.append(mu)\n",
    "        alpha_list.append(alpha)\n",
    "        omega_list.append(omega)\n",
    "        dict_unit_params[unit] = (mu, alpha, omega)\n",
    "        dict_timestamps[unit] = timestamps\n",
    "    return dict_timestamps, mu_list, alpha_list, omega_list, dict_unit_params"
   ]
  },
  {
   "cell_type": "code",
   "execution_count": 10,
   "metadata": {},
   "outputs": [
    {
     "name": "stdout",
     "output_type": "stream",
     "text": [
      "Learned parameters (one): {'B07': (0.0956491149421797, 0.021814197939838652, 0.02299054724873966), 'B12': (0.05934365719440852, 0.11546918172857555, 0.08875160429808027), 'E16': (0.06426993935201539, 0.31590614489976243, 0.08105963134872723), 'E19': (0.062109510892314576, 0.008612461747844717, 0.00862551530171648), 'G09': (0.06970021692301015, 0.0017657106728751792, 0.03682436348533642), 'G11': (0.07231688599650916, 0.2724961203602354, 0.15486166486829953), 'L09': (0.08782153805496139, 0.012875621845713765, 0.028348266887147477), 'L10': (0.12178604412662376, 0.0038369342010943293, 0.025061471097130795), 'P20': (0.15380959507018704, 0.014381663837028909, 0.020805771508587794), 'P22': (0.049951530846844706, 0.14605590536581992, 0.5729063024122315), 'W08': (0.08788247251712794, 0.07701672655175767, 0.47715337869283153), 'W09': (0.07522935779816521, 0.08962767053091897, 991757199522824.0), 'W10': (0.08220230517605705, 0.014113520005493433, 0.05361902464957295), 'W11': (0.08087166140030683, 0.030960991764213103, 0.017494562747151127)}\n",
      "Learned parameters (all): {'B06': (0.05606679337647883, 0.0021059405918113926, 0.02639625232352074), 'B07': (0.09990991632839259, 0.047870327548661294, 0.034206659700635904), 'B12': (0.05934084276174702, 0.11547507926252595, 0.08952783355136053), 'E16': (0.0617326542558694, 0.3577623425825652, 0.07013083635840871), 'E19': (0.06380120260135295, 0.013204859313654942, 0.01100371317983546), 'EMD': (0.3320964749536188, 0.2156374264581875, 958806769801705.8), 'G09': (0.0696977295320214, 0.0017746982132657223, 0.05442647828616911), 'G11': (0.07300097186958801, 0.2654056774328588, 0.15897853761580188), 'L09': (0.0923226473909325, 0.023815154400029265, 0.03385709861237295), 'L10': (0.12179717315964364, 0.0037651189988551093, 0.022848194909765033), 'P20': (0.153750543968701, 0.01482105056655809, 0.020441001774084366), 'P22': (0.046591059949845276, 0.2452356355504232, 0.05237772325427316), 'W08': (0.0888788377780779, 0.08009737428672146, 0.4423480419349318), 'W09': (0.07522935779816509, 0.08962766981363926, 991757214640158.4), 'W10': (0.08322280338701167, 0.025330742041194076, 0.07012559380486552), 'W11': (0.08082290877884833, 0.03157520342321155, 0.017703766946857342)}\n"
     ]
    },
    {
     "data": {
      "text/plain": [
       "'\\nprint(\"Learned mu values (one):\", mu_list_one)\\nprint(\"Learned alpha values (one):\", alpha_list_one)\\nprint(\"Learned omega values (one):\", omega_list_one)\\nprint(\"Learned mu values (all):\", mu_list_all)\\nprint(\"Learned alpha values (all):\", alpha_list_all)\\nprint(\"Learned omega values (all):\", omega_list_all)\\n'"
      ]
     },
     "execution_count": 10,
     "metadata": {},
     "output_type": "execute_result"
    }
   ],
   "source": [
    "dict_times_one, mu_list_one, alpha_list_one, omega_list_one, dict_unit_params_one = run_univariate(df_one_aug_freq_selected)\n",
    "dict_times_all, mu_list_all, alpha_list_all, omega_list_all, dict_unit_params_all = run_univariate(df_all_aug_freq_selected)\n",
    "\n",
    "print(\"Learned parameters (one):\", dict_unit_params_one)\n",
    "print(\"Learned parameters (all):\", dict_unit_params_all)\n",
    "\n",
    "'''\n",
    "print(\"Learned mu values (one):\", mu_list_one)\n",
    "print(\"Learned alpha values (one):\", alpha_list_one)\n",
    "print(\"Learned omega values (one):\", omega_list_one)\n",
    "print(\"Learned mu values (all):\", mu_list_all)\n",
    "print(\"Learned alpha values (all):\", alpha_list_all)\n",
    "print(\"Learned omega values (all):\", omega_list_all)\n",
    "'''"
   ]
  },
  {
   "cell_type": "markdown",
   "metadata": {},
   "source": [
    "#### Univariate plots"
   ]
  },
  {
   "cell_type": "code",
   "execution_count": 86,
   "metadata": {},
   "outputs": [],
   "source": [
    "# Generating univariate HP plot for given unit\n",
    "\n",
    "def hawkes_plot(unit, dict_learned, mapping_freq, smp, kind):\n",
    "    '''\n",
    "    kind: str, 'one' or 'all'\n",
    "    '''\n",
    "    mu, alpha, omega = dict_learned[unit]\n",
    "    uv = UVHP()\n",
    "    uv.set_params(mu, alpha, omega)\n",
    "    num_events = mapping_freq.loc[mapping_freq['unit'] == unit, 'frequency'].item()\n",
    "    func = [mu + np.sum(alpha * omega * np.exp(-omega * (x - smp[smp < x]))) for x in np.arange(0, max(smp), .1)]\n",
    "    \n",
    "    # plot\n",
    "    plt.figure(figsize=(15,2))\n",
    "    plt.title(\"Univariate HP (events_d_one)\") if kind == 'one' else plt.title(\"Univariate HP (events_d_all)\")\n",
    "    plt.ylabel(\"$\\lambda(t)$\")\n",
    "    plt.xlabel(\"$t$\")\n",
    "    plt.ylim(min(func)*0.9, max(func)*1.02) \n",
    "    plt.plot(smp, np.ones_like(smp) * min(func)*0.94, 'k.')\n",
    "    _ = plt.plot(np.arange(0, max(smp), .1), func, 'g-')\n",
    "    #print(num_events)\n",
    "    #print(smp)\n",
    "    #print(max(smp))\n",
    "    #print(func)"
   ]
  },
  {
   "cell_type": "code",
   "execution_count": 12,
   "metadata": {},
   "outputs": [
    {
     "data": {
      "image/png": "[encoded data removed]",
      "text/plain": [
       "<Figure size 1080x144 with 1 Axes>"
      ]
     },
     "metadata": {
      "needs_background": "light"
     },
     "output_type": "display_data"
    }
   ],
   "source": [
    "# events_d_one\n",
    "unit = 'B07'\n",
    "hawkes_plot(unit, dict_unit_params_one, mapping_one_freq, dict_times_one[unit], 'one')"
   ]
  },
  {
   "cell_type": "code",
   "execution_count": 87,
   "metadata": {},
   "outputs": [
    {
     "data": {
      "image/png": "[encoded data removed]",
      "text/plain": [
       "<Figure size 1080x144 with 1 Axes>"
      ]
     },
     "metadata": {
      "needs_background": "light"
     },
     "output_type": "display_data"
    }
   ],
   "source": [
    "# events_d_all\n",
    "unit = 'P22' #'EMD'\n",
    "hawkes_plot(unit, dict_unit_params_all, mapping_all_freq, dict_times_all[unit], 'all')"
   ]
  },
  {
   "cell_type": "markdown",
   "metadata": {},
   "source": [
    "### Multivariate"
   ]
  },
  {
   "cell_type": "code",
   "execution_count": 47,
   "metadata": {},
   "outputs": [],
   "source": [
    "from hawkeslib import MultivariateExpHawkesProcess as MVHP"
   ]
  },
  {
   "cell_type": "code",
   "execution_count": 57,
   "metadata": {},
   "outputs": [],
   "source": [
    "def run_multivariate(df):\n",
    "    df_times_marks = df[['time', 'unit']].copy()\n",
    "    df_times_marks['mark'] = pd.Categorical(df_times_marks.unit).codes\n",
    "    df_times_marks = df_times_marks.sort_values(by=['time'])\n",
    "    unit_label_freq_map = df[['unit', 'frequency']].copy() \n",
    "    unit_label_freq_map['label'] = pd.Categorical(unit_label_freq_map.unit).codes #df_times_marks['mark'].copy() \n",
    "    unit_label_freq_map = unit_label_freq_map.groupby(['unit', 'frequency', 'label']).size().reset_index(name='freq')[['unit', 'frequency', 'label']]\n",
    "    \n",
    "    mv = MVHP()\n",
    "    timestamps = df_times_marks['time'].values\n",
    "    marks = df_times_marks['mark'].values\n",
    "    mv.fit(timestamps, marks, method=\"em\") \n",
    "    mu_vect, Alpha_matrix, omega_val = mv.get_params()\n",
    "    return mu_vect, Alpha_matrix, omega_val, unit_label_freq_map"
   ]
  },
  {
   "cell_type": "code",
   "execution_count": 58,
   "metadata": {},
   "outputs": [
    {
     "name": "stdout",
     "output_type": "stream",
     "text": [
      "Key (one):\n",
      "    unit  frequency  label\n",
      "0   B07         52      0\n",
      "1   B12         36      1\n",
      "2   E16         49      2\n",
      "3   E19         32      3\n",
      "4   G09         34      4\n",
      "5   G11         52      5\n",
      "6   L09         48      6\n",
      "7   L10         66      7\n",
      "8   P20         84      8\n",
      "9   P22         31      9\n",
      "10  W08         50     10\n",
      "11  W09         45     11\n",
      "12  W10         42     12\n",
      "13  W11         45     13\n",
      "Key (all):\n",
      "    unit  frequency  label\n",
      "0   B06         30      0\n",
      "1   B07         57      1\n",
      "2   B12         36      2\n",
      "3   E16         50      3\n",
      "4   E19         33      4\n",
      "5   EMD        228      5\n",
      "6   G09         34      6\n",
      "7   G11         52      7\n",
      "8   L09         51      8\n",
      "9   L10         66      9\n",
      "10  P20         84     10\n",
      "11  P22         32     11\n",
      "12  W08         51     12\n",
      "13  W09         45     13\n",
      "14  W10         43     14\n",
      "15  W11         45     15\n"
     ]
    }
   ],
   "source": [
    "mu_one, Alpha_one, omega_one, mv_map_one = run_multivariate(df_one_aug_freq_selected)\n",
    "mu_all, Alpha_all, omega_all, mv_map_all = run_multivariate(df_all_aug_freq_selected)\n",
    "\n",
    "#print('mu vector:', mu_one)\n",
    "#print('Alpha matrix:', Alpha_one)\n",
    "#print('omega value:', omega_one)\n",
    "\n",
    "print('Key (one):\\n', mv_map_one)\n",
    "print('Key (all):\\n', mv_map_all)"
   ]
  },
  {
   "cell_type": "markdown",
   "metadata": {},
   "source": [
    "#### Multivariate plots"
   ]
  },
  {
   "cell_type": "code",
   "execution_count": 59,
   "metadata": {},
   "outputs": [
    {
     "data": {
      "image/png": "[encoded data removed]",
      "text/plain": [
       "<Figure size 432x288 with 2 Axes>"
      ]
     },
     "metadata": {
      "needs_background": "light"
     },
     "output_type": "display_data"
    },
    {
     "data": {
      "image/png": "[encoded data removed]",
      "text/plain": [
       "<Figure size 432x288 with 2 Axes>"
      ]
     },
     "metadata": {
      "needs_background": "light"
     },
     "output_type": "display_data"
    }
   ],
   "source": [
    "# Alpha depictions\n",
    "\n",
    "ax0 = sns.heatmap(Alpha_one, cmap=\"YlGnBu\")\n",
    "ax0.set_title(\"Learned A (events_d_one)\")\n",
    "plt.show()\n",
    "\n",
    "ax1 = sns.heatmap(Alpha_all, cmap=\"YlGnBu\")\n",
    "ax1.set_title(\"Learned A (events_d_all)\")\n",
    "plt.show()"
   ]
  },
  {
   "cell_type": "code",
   "execution_count": 63,
   "metadata": {},
   "outputs": [
    {
     "data": {
      "text/plain": [
       "Text(0.5, 1.0, '$\\\\mu_k$ (events_d_all)')"
      ]
     },
     "execution_count": 63,
     "metadata": {},
     "output_type": "execute_result"
    },
    {
     "data": {
      "image/png": "[encoded data removed]",
      "text/plain": [
       "<Figure size 864x360 with 2 Axes>"
      ]
     },
     "metadata": {
      "needs_background": "light"
     },
     "output_type": "display_data"
    }
   ],
   "source": [
    "f, ax = plt.subplots(1, 2, figsize=(12, 5))\n",
    "ax[0].stem(mu_one)\n",
    "ax[0].set_title(\"$\\mu_k$ (events_d_one)\")\n",
    "ax[1].stem(mu_all)\n",
    "ax[1].set_title(\"$\\mu_k$ (events_d_all)\")"
   ]
  },
  {
   "cell_type": "code",
   "execution_count": 65,
   "metadata": {
    "scrolled": true
   },
   "outputs": [
    {
     "data": {
      "image/png": "[encoded data removed]",
      "text/plain": [
       "<Figure size 432x288 with 2 Axes>"
      ]
     },
     "metadata": {
      "needs_background": "light"
     },
     "output_type": "display_data"
    },
    {
     "data": {
      "image/png": "[encoded data removed]",
      "text/plain": [
       "<Figure size 432x288 with 2 Axes>"
      ]
     },
     "metadata": {
      "needs_background": "light"
     },
     "output_type": "display_data"
    }
   ],
   "source": [
    "# Replacing diagonals of A_events_d_one and A_events_d_all with learned univariate alpha values\n",
    "\n",
    "A_events_d_one_copy = Alpha_one\n",
    "A_events_d_all_copy = Alpha_all\n",
    "np.fill_diagonal(A_events_d_one_copy, alpha_list_one)\n",
    "np.fill_diagonal(A_events_d_all_copy, alpha_list_all)\n",
    "\n",
    "ax0 = sns.heatmap(A_events_d_one_copy, cmap=\"YlGnBu\") # \"Blues\"\n",
    "ax0.set_title(\"A (events_d_one)\")\n",
    "plt.show()\n",
    "\n",
    "ax1 = sns.heatmap(A_events_d_all_copy, cmap=\"YlGnBu\") # \"Blues\"\n",
    "ax1.set_title(\"A (events_d_all)\")\n",
    "plt.show()"
   ]
  },
  {
   "cell_type": "code",
   "execution_count": null,
   "metadata": {},
   "outputs": [],
   "source": []
  },
  {
   "cell_type": "code",
   "execution_count": null,
   "metadata": {},
   "outputs": [],
   "source": []
  }
 ],
 "metadata": {
  "kernelspec": {
   "display_name": "Python 3",
   "language": "python",
   "name": "python3"
  },
  "language_info": {
   "codemirror_mode": {
    "name": "ipython",
    "version": 3
   },
   "file_extension": ".py",
   "mimetype": "text/x-python",
   "name": "python",
   "nbconvert_exporter": "python",
   "pygments_lexer": "ipython3",
   "version": "3.6.4"
  }
 },
 "nbformat": 4,
 "nbformat_minor": 2
}
