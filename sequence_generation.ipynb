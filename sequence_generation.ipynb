{
 "cells": [
  {
   "cell_type": "code",
   "execution_count": 1,
   "metadata": {},
   "outputs": [],
   "source": [
    "from sklearn.metrics.pairwise import pairwise_distances\n",
    "from sklearn.utils.extmath import cartesian\n",
    "\n",
    "import numpy as np\n",
    "import time as T\n",
    "import matplotlib.pyplot as plt"
   ]
  },
  {
   "cell_type": "code",
   "execution_count": 2,
   "metadata": {},
   "outputs": [],
   "source": [
    "# Generates a sequence based on mu, alpha, omega values\n",
    "# Uses Ogata's thinning method, with some speedups\n",
    "\n",
    "def generate_seq(horizon, alpha, mu, omega):\n",
    "    alpha, mu = np.array(alpha), np.array(mu)\n",
    "    dim = mu.shape[0]\n",
    "    data = []  # clear history\n",
    "    Istar = np.sum(mu)\n",
    "    s = np.random.exponential(scale=1./Istar)\n",
    "\n",
    "    # attribute (weighted random sample, since sum(mu)==Istar)\n",
    "    n0 = np.random.choice(np.arange(dim), 1, p=(mu/Istar))\n",
    "    data.append([s, n0])\n",
    "\n",
    "    # value of \\lambda(t_k) where k is most recent event\n",
    "    # starts with just the base rate\n",
    "    lastrates = mu.copy()\n",
    "\n",
    "    decIstar = False\n",
    "    while True:\n",
    "        tj, uj = data[-1][0], int(data[-1][1])\n",
    "        if decIstar:\n",
    "            # if last event was rejected, decrease Istar\n",
    "            Istar = np.sum(rates)\n",
    "            decIstar = False\n",
    "        else:\n",
    "            # otherwise, we just had an event, so recalc Istar (inclusive of last event)\n",
    "            Istar = np.sum(lastrates) + omega * np.sum(alpha[:,uj])\n",
    "            \n",
    "        # generate new event\n",
    "        s += np.random.exponential(scale=1./Istar)\n",
    "\n",
    "        # calc rates at time s (use trick to take advantage of rates at last event)\n",
    "        rates = mu + np.exp(-omega * (s - tj)) * \\\n",
    "                (alpha[:,uj].flatten() * omega + lastrates - mu)\n",
    "\n",
    "        # attribution/rejection test\n",
    "        # handle attribution and thinning in one step as weighted random sample\n",
    "        diff = Istar - np.sum(rates)\n",
    "        try:\n",
    "            n0 = np.random.choice(np.arange(dim+1), 1, p=(np.append(rates, diff)/Istar))\n",
    "        except ValueError:\n",
    "            # by construction this should not happen\n",
    "            print('Probabilities do not sum to one.')\n",
    "            data = np.array(data)\n",
    "            return data\n",
    "\n",
    "        if n0 < dim:\n",
    "            data.append([s, n0])\n",
    "            # update lastrates\n",
    "            lastrates = rates.copy()\n",
    "        else:\n",
    "            decIstar = True\n",
    "\n",
    "        # if past horizon, done\n",
    "        if s >= horizon:\n",
    "            data = np.array(data)\n",
    "            data = data[data[:,0] < horizon]\n",
    "            return data"
   ]
  },
  {
   "cell_type": "code",
   "execution_count": 3,
   "metadata": {},
   "outputs": [
    {
     "name": "stdout",
     "output_type": "stream",
     "text": [
      "[[14.535917903932816 array([0])]]\n",
      "1\n"
     ]
    }
   ],
   "source": [
    "# horizon = 60, alpha = [[0.5]], mu = [0.1], omega = 1.0\n",
    "seq = generate_seq(60, [[0.5]], [0.1], 1.0)\n",
    "print(seq)\n",
    "\n",
    "print(len(seq))"
   ]
  },
  {
   "cell_type": "code",
   "execution_count": 4,
   "metadata": {},
   "outputs": [],
   "source": [
    "# Visualization method to plot events\n",
    "\n",
    "def plot_events(horizon, alpha, mu, omega, horizonViz=-1, showDays=True, labeled=True):\n",
    "    alpha, mu = np.array(alpha), np.array(mu)\n",
    "    dim = mu.shape[0]\n",
    "    data = generate_seq(horizon, alpha, mu, omega)\n",
    "    \n",
    "    if horizonViz < 0:\n",
    "        horizonViz = np.amax(data[:,0])\n",
    "\n",
    "    fig = plt.figure(figsize=(10,2))\n",
    "    ax = plt.gca()\n",
    "    for i in range(dim):\n",
    "        subseq = data[data[:,1]==i][:,0]\n",
    "        plt.plot(subseq, np.zeros(len(subseq)) - i, 'bo', alpha=0.2)\n",
    "\n",
    "    if showDays:\n",
    "        for j in range(1,int(horizonViz)):\n",
    "            plt.plot([j,j], [-dim, 1], 'k:', alpha=0.15)\n",
    "\n",
    "    if labeled:\n",
    "        ax.set_yticklabels('')\n",
    "        ax.set_yticks(-np.arange(0, dim), minor=True)\n",
    "        ax.set_yticklabels([r'$e_{%d}$' % i for i in range(dim)], minor=True)\n",
    "    else:\n",
    "        ax.yaxis.set_visible(False)\n",
    "\n",
    "    ax.set_xlim([0,horizonViz])\n",
    "    ax.set_ylim([-dim, 1])\n",
    "    ax.set_xlabel('Time')\n",
    "    plt.tight_layout()\n",
    "    \n",
    "    print(data)"
   ]
  },
  {
   "cell_type": "code",
   "execution_count": 5,
   "metadata": {},
   "outputs": [
    {
     "name": "stdout",
     "output_type": "stream",
     "text": [
      "[[2.637436380728602 array([0])]\n",
      " [4.789671937429676 array([0])]\n",
      " [5.701705167130598 array([0])]\n",
      " [7.926706090224542 array([0])]\n",
      " [9.37041370957529 array([0])]\n",
      " [9.779926063804266 array([0])]\n",
      " [9.871780156837456 array([0])]\n",
      " [9.877745368913768 array([0])]\n",
      " [10.674414841678535 array([0])]\n",
      " [11.34561730001782 array([0])]\n",
      " [39.05218959678314 array([0])]\n",
      " [43.27965803258956 array([0])]\n",
      " [45.9892104004248 array([0])]\n",
      " [56.4834469914614 array([0])]\n",
      " [56.60268893090766 array([0])]\n",
      " [57.38590602090397 array([0])]]\n"
     ]
    },
    {
     "data": {
      "image/png": "[encoded data removed]",
      "text/plain": [
       "<Figure size 720x144 with 1 Axes>"
      ]
     },
     "metadata": {
      "needs_background": "light"
     },
     "output_type": "display_data"
    }
   ],
   "source": [
    "# horizon = 60, alpha = [[0.5]], mu = [0.1], omega = 1.0\n",
    "plot_events(60, [[0.5]], [0.1], 1.0)"
   ]
  },
  {
   "cell_type": "code",
   "execution_count": 6,
   "metadata": {},
   "outputs": [
    {
     "name": "stdout",
     "output_type": "stream",
     "text": [
      "[[14.943139464894825 array([0])]\n",
      " [15.178723225644612 array([1])]\n",
      " [15.216113921403107 array([2])]\n",
      " [18.559111476474648 array([0])]\n",
      " [18.857905729741198 array([0])]\n",
      " [22.082708347669396 array([0])]\n",
      " [22.098500819330855 array([1])]\n",
      " [23.884355423387028 array([0])]\n",
      " [24.219002267454083 array([0])]\n",
      " [32.04641130589961 array([0])]\n",
      " [36.10900030416823 array([0])]\n",
      " [36.26261123395113 array([1])]\n",
      " [37.87259129048434 array([0])]\n",
      " [37.92787159143671 array([1])]\n",
      " [38.26965889496692 array([2])]\n",
      " [38.397650064468635 array([2])]\n",
      " [39.83453510862351 array([0])]\n",
      " [48.07807789056751 array([0])]\n",
      " [48.099285086214614 array([1])]\n",
      " [48.943634940245616 array([0])]\n",
      " [59.991042392753755 array([0])]]\n"
     ]
    },
    {
     "data": {
      "image/png": "[encoded data removed]",
      "text/plain": [
       "<Figure size 720x144 with 1 Axes>"
      ]
     },
     "metadata": {
      "needs_background": "light"
     },
     "output_type": "display_data"
    }
   ],
   "source": [
    "alpha = [[0.1, 0.0, 0.0], \n",
    "         [0.9, 0.0, 0.0],\n",
    "         [0.0, 0.9, 0.0]]\n",
    "mu = [0.2, 0.0, 0.0]\n",
    "omega = 3.1\n",
    "horizon = 60\n",
    "\n",
    "plot_events(horizon, alpha, mu, omega)"
   ]
  },
  {
   "cell_type": "code",
   "execution_count": 7,
   "metadata": {},
   "outputs": [],
   "source": [
    "# Visualization methods for rates\n",
    "\n",
    "def get_rate(horizon, alpha, mu, omega, ct, d):\n",
    "    alpha, mu = np.array(alpha), np.array(mu)\n",
    "    dim = mu.shape[0]\n",
    "    data = generate_seq(horizon, alpha, mu, omega)\n",
    "    \n",
    "    # return rate at time ct in dimension d\n",
    "    seq = np.array(data)\n",
    "    if not np.all(ct > seq[:,0]): seq = seq[seq[:,0] < ct]\n",
    "    return mu[d] + np.sum([alpha[d,int(j)] * omega * np.exp(-omega*(ct-t)) for t,j in seq])\n",
    "\n",
    "def plot_rates(horizon, alpha, mu, omega, horizonViz=-1):\n",
    "    alpha, mu = np.array(alpha), np.array(mu)\n",
    "    dim = mu.shape[0]\n",
    "    data = generate_seq(horizon, alpha, mu, omega)\n",
    "    \n",
    "    # finish up this function to plot when dim != 3\n",
    "    if dim != 3:\n",
    "        print('Not yet implemented.')\n",
    "        return\n",
    "\n",
    "    if horizonViz < 0:\n",
    "        horizonViz = np.amax(data[:,0])\n",
    "\n",
    "    f, axarr = plt.subplots(6,1, sharex='col', \n",
    "                            gridspec_kw = {'height_ratios':[3,1,3,1,3,1]}, \n",
    "                            figsize=(8,5))\n",
    "    xs = np.linspace(0, horizonViz, (horizonViz/100.)*1000)\n",
    "    for i in range(dim):\n",
    "        row = i * 2\n",
    "\n",
    "        # plot rate\n",
    "        r = [get_rate(horizon, alpha, mu, omega, ct, i) for ct in xs]\n",
    "        axarr[row].plot(xs, r, 'k-')\n",
    "        axarr[row].set_ylim([-0.01, np.amax(r)+(np.amax(r)/2.)])\n",
    "        axarr[row].set_ylabel('$\\lambda(t)_{%d}$' % i, fontsize=14)\n",
    "        r = []\n",
    "\n",
    "        # plot events\n",
    "        subseq = data[data[:,1]==i][:,0]\n",
    "        axarr[row+1].plot(subseq, np.zeros(len(subseq)) - 0.5, 'bo', alpha=0.2)\n",
    "        axarr[row+1].yaxis.set_visible(False)\n",
    "\n",
    "        axarr[row+1].set_xlim([0, horizonViz])\n",
    "\n",
    "    plt.tight_layout()"
   ]
  },
  {
   "cell_type": "code",
   "execution_count": 8,
   "metadata": {},
   "outputs": [
    {
     "name": "stdout",
     "output_type": "stream",
     "text": [
      "Not yet implemented.\n"
     ]
    }
   ],
   "source": [
    "# horizon = 60, alpha = [[0.5]], mu = [0.1], omega = 1.0\n",
    "plot_rates(60, [[0.5]], [0.1], 1.0)"
   ]
  },
  {
   "cell_type": "code",
   "execution_count": 9,
   "metadata": {},
   "outputs": [
    {
     "name": "stderr",
     "output_type": "stream",
     "text": [
      "/Users/agnikumar/anaconda3/lib/python3.7/site-packages/ipykernel_launcher.py:29: DeprecationWarning: object of type <class 'float'> cannot be safely interpreted as an integer.\n"
     ]
    },
    {
     "data": {
      "image/png": "[encoded data removed]",
      "text/plain": [
       "<Figure size 576x360 with 6 Axes>"
      ]
     },
     "metadata": {
      "needs_background": "light"
     },
     "output_type": "display_data"
    }
   ],
   "source": [
    "alpha = [[0.1, 0.0, 0.0], \n",
    "         [0.9, 0.0, 0.0],\n",
    "         [0.0, 0.9, 0.0]]\n",
    "mu = [0.2, 0.0, 0.0]\n",
    "omega = 3.1\n",
    "horizon = 60\n",
    "\n",
    "plot_rates(horizon, alpha, mu, omega)"
   ]
  },
  {
   "cell_type": "code",
   "execution_count": 10,
   "metadata": {},
   "outputs": [],
   "source": [
    "def EM(data, Ahat, mhat, omega, seq=[], smx=None, tmx=None, regularize=False, \n",
    "       Tm=-1, maxiter=100, epsilon=0.01, verbose=True):\n",
    "    '''implements MAP EM. Optional to regularize with 'smx' and 'tmx' matrix (shape=(dim,dim)).\n",
    "    In general, the 'tmx' matrix is a pseudocount of parent events from column j,\n",
    "    and the 'smx' matrix is a pseudocount of child events from column j -> i'''\n",
    "\n",
    "    # if no sequence passed, uses class instance data\n",
    "    if len(seq) == 0:\n",
    "        seq = data\n",
    "\n",
    "    N = len(seq)\n",
    "    dim = mhat.shape[0]\n",
    "    Tm = float(seq[-1,0]) if Tm < 0 else float(Tm)\n",
    "    sequ = seq[:,1].astype(int)\n",
    "\n",
    "    p_ii = np.random.uniform(0.01, 0.99, size=N)\n",
    "    p_ij = np.random.uniform(0.01, 0.99, size=(N, N))\n",
    "\n",
    "    # PRECOMPUTATIONS\n",
    "\n",
    "    # diffs[i,j] = t_i - t_j for j < i (o.w. zero)\n",
    "    diffs = pairwise_distances(np.array([seq[:,0]]).T, metric = 'euclidean')\n",
    "    diffs[np.triu_indices(N)] = 0\n",
    "\n",
    "    # kern[i,j] = omega*np.exp(-omega*diffs[i,j])\n",
    "    kern = omega*np.exp(-omega*diffs)\n",
    "\n",
    "    colidx = np.tile(sequ.reshape((1,N)), (N,1))\n",
    "    rowidx = np.tile(sequ.reshape((N,1)), (1,N))\n",
    "\n",
    "    # approx of Gt sum in a_{uu'} denom\n",
    "    seqcnts = np.array([len(np.where(sequ==i)[0]) for i in range(dim)])\n",
    "    seqcnts = np.tile(seqcnts, (dim,1))\n",
    "\n",
    "    # returns sum of all pmat vals where u_i=a, u_j=b\n",
    "    def sum_pij(a,b):\n",
    "        c = cartesian([np.where(seq[:,1]==int(a))[0], np.where(seq[:,1]==int(b))[0]])\n",
    "        return np.sum(p_ij[c[:,0], c[:,1]])\n",
    "    vp = np.vectorize(sum_pij)\n",
    "\n",
    "    # \\int_0^t g(t') dt' with g(t)=we^{-wt}\n",
    "    # def G(t): return 1 - np.exp(-omega * t)\n",
    "    #   vg = np.vectorize(G)\n",
    "    # Gdenom = np.array([np.sum(vg(diffs[-1,np.where(seq[:,1]==i)])) for i in range(dim)])\n",
    "    k = 0\n",
    "    old_LL = -10000\n",
    "    START = T.time()\n",
    "    while k < maxiter:\n",
    "        Auu = Ahat[rowidx, colidx]\n",
    "        ag = np.multiply(Auu, kern)\n",
    "        ag[np.triu_indices(N)] = 0\n",
    "\n",
    "        # compute m_{u_i}\n",
    "        mu = mhat[sequ]\n",
    "\n",
    "        # compute total rates of u_i at time i\n",
    "        rates = mu + np.sum(ag, axis=1)\n",
    "\n",
    "        # compute matrix of p_ii and p_ij  (keep separate for later computations)\n",
    "        p_ij = np.divide(ag, np.tile(np.array([rates]).T, (1,N)))\n",
    "        p_ii = np.divide(mu, rates)\n",
    "\n",
    "        # compute mhat: mhat_u = (\\sum_{u_i=u} p_ii) / T\n",
    "        mhat = np.array([np.sum(p_ii[np.where(seq[:,1]==i)]) \\\n",
    "                         for i in range(dim)]) / Tm\n",
    "\n",
    "        # ahat_{u,u'} = (\\sum_{u_i=u}\\sum_{u_j=u', j<i} p_ij) / \\sum_{u_j=u'} G(T-t_j)\n",
    "        # approximate with G(T-T_j) = 1\n",
    "        if regularize:\n",
    "            Ahat = np.divide(np.fromfunction(lambda i,j: vp(i,j), (dim,dim)) + (smx-1),\n",
    "                             seqcnts + tmx)\n",
    "        else:\n",
    "            Ahat = np.divide(np.fromfunction(lambda i,j: vp(i,j), (dim,dim)),\n",
    "                             seqcnts)\n",
    "\n",
    "        if k % 10 == 0:\n",
    "            try:\n",
    "                term1 = np.sum(np.log(rates))\n",
    "            except:\n",
    "                print('Log error!')\n",
    "            term2 = Tm * np.sum(mhat)\n",
    "            term3 = np.sum(np.sum(Ahat[u,int(seq[j,1])] for j in range(N)) for u in range(dim))\n",
    "            #new_LL = (1./N) * (term1 - term2 - term3)\n",
    "            new_LL = (1./N) * (term1 - term3)\n",
    "            if abs(new_LL - old_LL) <= epsilon:\n",
    "                if verbose:\n",
    "                    print('Reached stopping criterion. (Old: %1.3f New: %1.3f)' % (old_LL, new_LL))\n",
    "                return Ahat, mhat\n",
    "            if verbose:\n",
    "                print('After ITER %d (old: %1.3f new: %1.3f)' % (k, old_LL, new_LL))\n",
    "                print(' terms %1.4f, %1.4f, %1.4f' % (term1, term2, term3))\n",
    "\n",
    "            old_LL = new_LL\n",
    "\n",
    "        k += 1\n",
    "\n",
    "    if verbose:\n",
    "        print('Reached max iter (%d).' % maxiter)\n",
    "    \n",
    "    print(rates) \n",
    "    #return Ahat, mhat\n",
    "    \n",
    "    return Ahat, mhat, rates "
   ]
  },
  {
   "cell_type": "code",
   "execution_count": 11,
   "metadata": {},
   "outputs": [
    {
     "name": "stdout",
     "output_type": "stream",
     "text": [
      "After ITER 0 (old: -10000.000 new: -0.089)\n",
      " terms 10.6124, 10.3342, 12.6658\n",
      "After ITER 10 (old: -0.089 new: -1.183)\n",
      " terms -12.6544, 8.4437, 14.5563\n",
      "Reached stopping criterion. (Old: -1.183 New: -1.183)\n",
      "(array([[1.81835189e-011, 6.97110244e-002, 5.56177676e-261],\n",
      "       [8.03163649e-001, 1.15297448e-005, 1.28572487e-001],\n",
      "       [1.24645862e-011, 4.92735012e-001, 3.43019984e-001]]), array([1.40725730e-01, 3.94616773e-18, 9.58273702e-28]))\n"
     ]
    },
    {
     "name": "stderr",
     "output_type": "stream",
     "text": [
      "/Users/agnikumar/anaconda3/lib/python3.7/site-packages/ipykernel_launcher.py:85: DeprecationWarning: Calling np.sum(generator) is deprecated, and in the future will give a different result. Use np.sum(np.fromiter(generator)) or the python sum builtin instead.\n"
     ]
    }
   ],
   "source": [
    "alpha = [[0.1, 0.0, 0.0], \n",
    "         [0.9, 0.0, 0.0],\n",
    "         [0.0, 0.9, 0.0]]\n",
    "mu = [0.2, 0.0, 0.0]\n",
    "omega = 3.1\n",
    "horizon = 60\n",
    "\n",
    "data = generate_seq(horizon, alpha, mu, omega)\n",
    "\n",
    "mhat = np.random.uniform(0,1, size=3)\n",
    "ahat = np.random.uniform(0,1, size=(3,3))\n",
    "w = 3.\n",
    "\n",
    "print(EM(data, ahat, mhat, w))"
   ]
  },
  {
   "cell_type": "code",
   "execution_count": null,
   "metadata": {},
   "outputs": [],
   "source": []
  }
 ],
 "metadata": {
  "kernelspec": {
   "display_name": "Python 3",
   "language": "python",
   "name": "python3"
  },
  "language_info": {
   "codemirror_mode": {
    "name": "ipython",
    "version": 3
   },
   "file_extension": ".py",
   "mimetype": "text/x-python",
   "name": "python",
   "nbconvert_exporter": "python",
   "pygments_lexer": "ipython3",
   "version": "3.7.3"
  }
 },
 "nbformat": 4,
 "nbformat_minor": 2
}
