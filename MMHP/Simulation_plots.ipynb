{
 "cells": [
  {
   "cell_type": "code",
   "execution_count": 1,
   "metadata": {},
   "outputs": [],
   "source": [
    "import matplotlib.pyplot as plt\n",
    "import seaborn as sns\n",
    "\n",
    "import numpy as np\n",
    "import pandas as pd\n",
    "import scipy.stats as stats"
   ]
  },
  {
   "cell_type": "markdown",
   "metadata": {},
   "source": [
    "#### Generating synthetic data"
   ]
  },
  {
   "cell_type": "code",
   "execution_count": 3,
   "metadata": {},
   "outputs": [],
   "source": [
    "class MHP:\n",
    "    def __init__(self, alpha=[[0.5]], mu=[0.1], omega=1.0):\n",
    "        '''\n",
    "        params should be of form\n",
    "        alpha: numpy.array((u,u)), mu: numpy.array((,u)), omega: float\n",
    "        '''\n",
    "        \n",
    "        self.data = []\n",
    "        self.alpha, self.mu, self.omega = np.array(alpha), np.array(mu), omega\n",
    "        self.dim = self.mu.shape[0]\n",
    "        self.check_stability()\n",
    "\n",
    "    def check_stability(self):\n",
    "        '''\n",
    "        check stability of process (max alpha eigenvalue < 1)\n",
    "        '''\n",
    "        w,v = np.linalg.eig(self.alpha)\n",
    "        me = np.amax(np.abs(w))\n",
    "        print('Max eigenvalue: %1.5f' % me)\n",
    "        if me >= 1.:\n",
    "            print('(WARNING) Unstable.')"
   ]
  },
  {
   "cell_type": "code",
   "execution_count": 4,
   "metadata": {},
   "outputs": [],
   "source": [
    "class MHP(MHP): # for Jupyter notebook cells to link\n",
    "    \n",
    "    def generate_seq(self, horizon):\n",
    "        '''\n",
    "        Generate a sequence based on mu, alpha, omega values. \n",
    "        Uses Ogata's thinning method, with some speedups, noted below\n",
    "        '''\n",
    "\n",
    "        self.data = []  # clear history\n",
    "\n",
    "        Istar = np.sum(self.mu)\n",
    "        s = np.random.exponential(scale=1./Istar)\n",
    "\n",
    "        # attribute (weighted random sample, since sum(mu)==Istar)\n",
    "        n0 = np.random.choice(np.arange(self.dim), \n",
    "                              1, \n",
    "                              p=(self.mu / Istar))\n",
    "        self.data.append([s, n0])\n",
    "\n",
    "        # value of \\lambda(t_k) where k is most recent event\n",
    "        # starts with just the base rate\n",
    "        lastrates = self.mu.copy()\n",
    "\n",
    "        decIstar = False\n",
    "        while True:\n",
    "            tj, uj = self.data[-1][0], int(self.data[-1][1])\n",
    "\n",
    "            if decIstar:\n",
    "                # if last event was rejected, decrease Istar\n",
    "                Istar = np.sum(rates)\n",
    "                decIstar = False\n",
    "            else:\n",
    "                # otherwise, we just had an event, so recalc Istar (inclusive of last event)\n",
    "                Istar = np.sum(lastrates) + \\\n",
    "                        self.omega * np.sum(self.alpha[:,uj])\n",
    "\n",
    "            # generate new event\n",
    "            s += np.random.exponential(scale=1./Istar)\n",
    "\n",
    "            # calc rates at time s (use trick to take advantage of rates at last event)\n",
    "            rates = self.mu + np.exp(-self.omega * (s - tj)) * \\\n",
    "                    (self.alpha[:,uj].flatten() * self.omega + lastrates - self.mu)\n",
    "\n",
    "            # attribution/rejection test\n",
    "            # handle attribution and thinning in one step as weighted random sample\n",
    "            diff = Istar - np.sum(rates)\n",
    "            try:\n",
    "                n0 = np.random.choice(np.arange(self.dim+1), 1, \n",
    "                                      p=(np.append(rates, diff) / Istar))\n",
    "            except ValueError:\n",
    "                # by construction this should not happen\n",
    "                print('Probabilities do not sum to one.')\n",
    "                self.data = np.array(self.data)\n",
    "                return self.data\n",
    "\n",
    "            if n0 < self.dim:\n",
    "                self.data.append([s, n0])\n",
    "                # update lastrates\n",
    "                lastrates = rates.copy()\n",
    "            else:\n",
    "                decIstar = True\n",
    "\n",
    "            # if past horizon, done\n",
    "            if s >= horizon:\n",
    "                self.data = np.array(self.data)\n",
    "                self.data = self.data[self.data[:,0] < horizon]\n",
    "                return self.data"
   ]
  },
  {
   "cell_type": "markdown",
   "metadata": {},
   "source": [
    "#### Creating $A$ (infectivity) vectors with varying variance"
   ]
  },
  {
   "cell_type": "code",
   "execution_count": 7,
   "metadata": {},
   "outputs": [
    {
     "name": "stdout",
     "output_type": "stream",
     "text": [
      "[0.25 0.5  0.75 1.   1.25 1.5  1.75 2.   2.25 2.5  2.75 3.  ]\n",
      "12\n",
      "[0. 0. 0. 0. 0. 0. 0. 0. 0. 0.]\n",
      "\n",
      "[0.84736637 0.27931777 0.52688793 0.4503575  0.1382976  0.60348146\n",
      " 0.20841798 0.64875955 0.10886136 0.10346769]\n",
      "\n",
      "[0.52125421 0.20173566 0.68169301 0.24135218 0.6736526  1.3787922\n",
      " 0.3383593  0.1961858  0.2136822  0.27759572]\n",
      "\n",
      "[0.87962125 1.72850296 0.57070151 0.23485886 0.46731428 0.88563518\n",
      " 1.24706029 0.22386745 1.70258614 0.32790435]\n",
      "\n",
      "[0.82616726 0.8227874  1.07001728 1.47831506 0.72349572 1.28954622\n",
      " 0.92387113 1.61599061 0.98673608 0.51470472]\n",
      "\n",
      "[1.95467984 0.41540732 0.23078918 0.9720462  1.16774295 1.07795292\n",
      " 0.25767871 1.45574041 0.11202289 2.15455366]\n",
      "\n",
      "[2.40639905 1.66382502 0.7529488  2.2930217  1.52273008 1.76124735\n",
      " 0.25365615 0.77928094 0.44059947 0.45131596]\n",
      "\n",
      "[1.51170446 4.87839618 2.007925   0.21225867 0.00681352 0.66842813\n",
      " 0.71852962 0.3147465  2.66912668 0.23500475]\n",
      "\n",
      "[0.78882902 1.20777149 0.52239125 1.7043274  0.8420983  2.9785418\n",
      " 1.22482588 2.09396719 1.69444586 0.88059033]\n",
      "\n",
      "[1.31061177 0.30884243 1.03967096 0.31998562 2.38532311 0.77766584\n",
      " 0.95419608 1.06971848 0.3606647  2.45801945]\n",
      "\n",
      "[0.89290219 2.1017569  1.26677944 2.82608432 0.498861   0.31999445\n",
      " 1.03947593 1.71239156 0.12945455 3.00197027]\n",
      "\n",
      "[2.38658091 1.23667181 0.18960835 3.76654432 0.90408043 0.36883025\n",
      " 0.64704189 0.41078917 0.49228463 2.16263688]\n",
      "\n",
      "[0.05098212 1.19842665 0.97881442 0.24186279 1.43678753 0.54081279\n",
      " 0.43117607 0.99740866 1.68362129 0.38837719]\n",
      "\n"
     ]
    }
   ],
   "source": [
    "# Creating vectors with varying variance\n",
    "\n",
    "variances = np.array([0.25*n for n in range(1, 13)]) # ranging from 0 to 3, with step size 0.25\n",
    "sigmas = np.sqrt(variances) # standard deviations\n",
    "\n",
    "mu = 0\n",
    "lower, upper = 0, np.inf\n",
    "A_vectors = [] # initializations for A \n",
    "A_vectors_Ogata = [] # square A for Ogata\n",
    "for sigma in sigmas:\n",
    "    dist = stats.truncnorm((lower - mu)/sigma, (upper - mu)/sigma, loc=mu, scale=sigma)\n",
    "    A_vectors.append(dist.rvs(10))\n",
    "    A_vectors_Ogata.append(dist.rvs(100).reshape((10, 10)))\n",
    "\n",
    "A_vectors.insert(0, np.zeros(10)) # adding vector with 0 variance\n",
    "A_vectors_Ogata.insert(0, np.zeros((10,10)))\n",
    "\n",
    "#print(A_vectors_Ogata)\n",
    "\n",
    "#print(A_vectors)\n",
    "print(variances)\n",
    "print(len(variances))\n",
    "\n",
    "for A_vector in A_vectors:\n",
    "    print(A_vector)\n",
    "    print(\"\")"
   ]
  },
  {
   "cell_type": "markdown",
   "metadata": {},
   "source": [
    "#### Getting simulation sequence (simulation_seq)"
   ]
  },
  {
   "cell_type": "code",
   "execution_count": 15,
   "metadata": {
    "scrolled": true
   },
   "outputs": [
    {
     "name": "stdout",
     "output_type": "stream",
     "text": [
      "Max eigenvalue: 6.07554\n",
      "(WARNING) Unstable.\n"
     ]
    },
    {
     "ename": "KeyboardInterrupt",
     "evalue": "",
     "output_type": "error",
     "traceback": [
      "\u001b[0;31m---------------------------------------------------------------------------\u001b[0m",
      "\u001b[0;31mKeyboardInterrupt\u001b[0m                         Traceback (most recent call last)",
      "\u001b[0;32m<ipython-input-15-2a6fd1f3c473>\u001b[0m in \u001b[0;36m<module>\u001b[0;34m\u001b[0m\n\u001b[1;32m      8\u001b[0m \u001b[0;34m\u001b[0m\u001b[0m\n\u001b[1;32m      9\u001b[0m \u001b[0mP\u001b[0m \u001b[0;34m=\u001b[0m \u001b[0mMHP\u001b[0m\u001b[0;34m(\u001b[0m\u001b[0mmu\u001b[0m\u001b[0;34m=\u001b[0m\u001b[0mmu\u001b[0m\u001b[0;34m,\u001b[0m \u001b[0malpha\u001b[0m\u001b[0;34m=\u001b[0m\u001b[0mA\u001b[0m\u001b[0;34m)\u001b[0m \u001b[0;31m# using default omega value\u001b[0m\u001b[0;34m\u001b[0m\u001b[0;34m\u001b[0m\u001b[0m\n\u001b[0;32m---> 10\u001b[0;31m \u001b[0mP\u001b[0m\u001b[0;34m.\u001b[0m\u001b[0mgenerate_seq\u001b[0m\u001b[0;34m(\u001b[0m\u001b[0;36m100\u001b[0m\u001b[0;34m)\u001b[0m\u001b[0;34m\u001b[0m\u001b[0;34m\u001b[0m\u001b[0m\n\u001b[0m",
      "\u001b[0;32m<ipython-input-4-e0381f94f9fa>\u001b[0m in \u001b[0;36mgenerate_seq\u001b[0;34m(self, horizon)\u001b[0m\n\u001b[1;32m     47\u001b[0m             \u001b[0;32mtry\u001b[0m\u001b[0;34m:\u001b[0m\u001b[0;34m\u001b[0m\u001b[0;34m\u001b[0m\u001b[0m\n\u001b[1;32m     48\u001b[0m                 n0 = np.random.choice(np.arange(self.dim+1), 1, \n\u001b[0;32m---> 49\u001b[0;31m                                       p=(np.append(rates, diff) / Istar))\n\u001b[0m\u001b[1;32m     50\u001b[0m             \u001b[0;32mexcept\u001b[0m \u001b[0mValueError\u001b[0m\u001b[0;34m:\u001b[0m\u001b[0;34m\u001b[0m\u001b[0;34m\u001b[0m\u001b[0m\n\u001b[1;32m     51\u001b[0m                 \u001b[0;31m# by construction this should not happen\u001b[0m\u001b[0;34m\u001b[0m\u001b[0;34m\u001b[0m\u001b[0;34m\u001b[0m\u001b[0m\n",
      "\u001b[0;32mmtrand.pyx\u001b[0m in \u001b[0;36mnumpy.random.mtrand.RandomState.choice\u001b[0;34m()\u001b[0m\n",
      "\u001b[0;32m<__array_function__ internals>\u001b[0m in \u001b[0;36mprod\u001b[0;34m(*args, **kwargs)\u001b[0m\n",
      "\u001b[0;32m/opt/miniconda/envs/sugar/lib/python3.7/site-packages/numpy/core/fromnumeric.py\u001b[0m in \u001b[0;36mprod\u001b[0;34m(a, axis, dtype, out, keepdims, initial, where)\u001b[0m\n\u001b[1;32m   2909\u001b[0m     \"\"\"\n\u001b[1;32m   2910\u001b[0m     return _wrapreduction(a, np.multiply, 'prod', axis, dtype, out,\n\u001b[0;32m-> 2911\u001b[0;31m                           keepdims=keepdims, initial=initial, where=where)\n\u001b[0m\u001b[1;32m   2912\u001b[0m \u001b[0;34m\u001b[0m\u001b[0m\n\u001b[1;32m   2913\u001b[0m \u001b[0;34m\u001b[0m\u001b[0m\n",
      "\u001b[0;32m/opt/miniconda/envs/sugar/lib/python3.7/site-packages/numpy/core/fromnumeric.py\u001b[0m in \u001b[0;36m_wrapreduction\u001b[0;34m(obj, ufunc, method, axis, dtype, out, **kwargs)\u001b[0m\n\u001b[1;32m     88\u001b[0m                 \u001b[0;32mreturn\u001b[0m \u001b[0mreduction\u001b[0m\u001b[0;34m(\u001b[0m\u001b[0maxis\u001b[0m\u001b[0;34m=\u001b[0m\u001b[0maxis\u001b[0m\u001b[0;34m,\u001b[0m \u001b[0mout\u001b[0m\u001b[0;34m=\u001b[0m\u001b[0mout\u001b[0m\u001b[0;34m,\u001b[0m \u001b[0;34m**\u001b[0m\u001b[0mpasskwargs\u001b[0m\u001b[0;34m)\u001b[0m\u001b[0;34m\u001b[0m\u001b[0;34m\u001b[0m\u001b[0m\n\u001b[1;32m     89\u001b[0m \u001b[0;34m\u001b[0m\u001b[0m\n\u001b[0;32m---> 90\u001b[0;31m     \u001b[0;32mreturn\u001b[0m \u001b[0mufunc\u001b[0m\u001b[0;34m.\u001b[0m\u001b[0mreduce\u001b[0m\u001b[0;34m(\u001b[0m\u001b[0mobj\u001b[0m\u001b[0;34m,\u001b[0m \u001b[0maxis\u001b[0m\u001b[0;34m,\u001b[0m \u001b[0mdtype\u001b[0m\u001b[0;34m,\u001b[0m \u001b[0mout\u001b[0m\u001b[0;34m,\u001b[0m \u001b[0;34m**\u001b[0m\u001b[0mpasskwargs\u001b[0m\u001b[0;34m)\u001b[0m\u001b[0;34m\u001b[0m\u001b[0;34m\u001b[0m\u001b[0m\n\u001b[0m\u001b[1;32m     91\u001b[0m \u001b[0;34m\u001b[0m\u001b[0m\n\u001b[1;32m     92\u001b[0m \u001b[0;34m\u001b[0m\u001b[0m\n",
      "\u001b[0;31mKeyboardInterrupt\u001b[0m: "
     ]
    }
   ],
   "source": [
    "num_event_types = 10 # number of units\n",
    "mu = np.random.rand(1, 10).reshape((10,)) # random initialization\n",
    "\n",
    "A = A_vectors_Ogata[2]\n",
    "\n",
    "P = MHP(mu=mu, alpha=A) # using default omega value\n",
    "P.generate_seq(100)"
   ]
  },
  {
   "cell_type": "code",
   "execution_count": null,
   "metadata": {},
   "outputs": [],
   "source": [
    "mu = np.random.rand(5,)\n",
    "A = np.random.rand(5,5)\n",
    "\n",
    "P = MHP(mu=mu, alpha=A)\n",
    "simulation_seq = P.generate_seq(50)\n",
    "print(simulation_seq)"
   ]
  },
  {
   "attachments": {},
   "cell_type": "markdown",
   "metadata": {},
   "source": [
    "#### Simulation plots (variance in A and μ)"
   ]
  },
  {
   "cell_type": "code",
   "execution_count": 22,
   "metadata": {},
   "outputs": [
    {
     "data": {
      "text/plain": [
       "Text(0.5, 1.0, 'Simulation: Learning Infectivity')"
      ]
     },
     "execution_count": 22,
     "metadata": {},
     "output_type": "execute_result"
    },
    {
     "data": {
      "image/png": "[encoded data removed]",
      "text/plain": [
       "<Figure size 432x288 with 1 Axes>"
      ]
     },
     "metadata": {
      "needs_background": "light"
     },
     "output_type": "display_data"
    }
   ],
   "source": [
    "# Plotting 'variances' (in A) by 'errors' (Euclidean distances)\n",
    "\n",
    "variances = [0.25*n for n in range(1, 13)]\n",
    "variances.insert(0, 0)\n",
    "#errors = [0,1.46118146075164,1.85792203224989,3.11963031062086,3.39843125294209,3.7852465842657,4.56479124345319,6.19380830421468,4.93248279383736,4.18150430471774,5.30638934180977,5.27926301556557,2.9924684815692]\n",
    "errors = [0,1.46491518936275,1.86147236132768,3.12332331930089,3.40263719434106,3.78887014976776,4.56857227457589,6.19677964543199,4.93643449914371,4.18517206822057,5.3100168185097,5.28259438101623,2.99615739319619]\n",
    "\n",
    "plt.plot(variances, errors, marker='.')\n",
    "plt.xlabel(\"variance of A\")\n",
    "plt.ylabel(\"error(A, A_hat)\")\n",
    "plt.title(\"Simulation: Learning Infectivity\")\n"
   ]
  },
  {
   "cell_type": "code",
   "execution_count": 18,
   "metadata": {},
   "outputs": [
    {
     "name": "stdout",
     "output_type": "stream",
     "text": [
      "[array([0.]), array([0.1590235]), array([0.12238107]), array([0.39250569]), array([0.36222051]), array([0.24485692]), array([0.26842871]), array([0.12801003]), array([0.8855262]), array([0.07668322]), array([0.39326933]), array([0.12125819]), array([0.31266145])]\n",
      "13\n"
     ]
    }
   ],
   "source": [
    "# Learning mu\n",
    "\n",
    "variances = np.array([0.25*n for n in range(1, 13)]) # ranging from 0 to 3, with step size 0.25\n",
    "sigmas = np.sqrt(variances) # standard deviations\n",
    "\n",
    "mu = 0\n",
    "lower, upper = 0, np.inf\n",
    "mu_vectors = [] # initializations for A \n",
    "for sigma in sigmas:\n",
    "    dist = stats.truncnorm((lower - mu)/sigma, (upper - mu)/sigma, loc=mu, scale=sigma)\n",
    "    mu_vectors.append(dist.rvs(1))\n",
    "mu_vectors.insert(0, np.zeros(1))\n",
    "\n",
    "print(mu_vectors)\n",
    "print(len(mu_vectors))"
   ]
  },
  {
   "cell_type": "code",
   "execution_count": 24,
   "metadata": {},
   "outputs": [
    {
     "data": {
      "text/plain": [
       "Text(0.5, 1.0, 'Simulation: Learning Base Rates')"
      ]
     },
     "execution_count": 24,
     "metadata": {},
     "output_type": "execute_result"
    },
    {
     "data": {
      "image/png": "[encoded data removed]",
      "text/plain": [
       "<Figure size 432x288 with 1 Axes>"
      ]
     },
     "metadata": {
      "needs_background": "light"
     },
     "output_type": "display_data"
    }
   ],
   "source": [
    "# Plotting 'variances' (in mu) by 'errors' (Euclidean distances)\n",
    "\n",
    "variances = [0.25*n for n in range(1, 13)]\n",
    "variances.insert(0, 0)\n",
    "#mu_errors = [0,0.441071023700129,0.477713188699904,0.207589854054933,0.237874935516751,0.355238068343921,0.331666382362215,0.472084273381284,0.285429546162864,0.523410591933487,0.206826216461765,0.478836059581192,0.287433819344601]\n",
    "mu_errors = [0,1.930925645808,1.96756798502503,1.69744378917771,1.72772893800153,1.84509238061535,1.82152062455986,1.96193904046581,1.20442361742767,2.01326567749704,1.69668014993668,1.96869086186701,1.77728794175166]\n",
    "\n",
    "\n",
    "plt.plot(variances, mu_errors, marker='.', color='r')\n",
    "plt.xlabel(\"variance of μ\")\n",
    "plt.ylabel(\"error(μ, μ_hat)\")\n",
    "plt.title(\"Simulation: Learning Base Rates\")"
   ]
  },
  {
   "cell_type": "markdown",
   "metadata": {},
   "source": [
    "#### Simulation plots (number of events/timestamps)"
   ]
  },
  {
   "cell_type": "code",
   "execution_count": null,
   "metadata": {},
   "outputs": [],
   "source": []
  }
 ],
 "metadata": {
  "kernelspec": {
   "display_name": "Python 3",
   "language": "python",
   "name": "python3"
  },
  "language_info": {
   "codemirror_mode": {
    "name": "ipython",
    "version": 3
   },
   "file_extension": ".py",
   "mimetype": "text/x-python",
   "name": "python",
   "nbconvert_exporter": "python",
   "pygments_lexer": "ipython3",
   "version": "3.7.5"
  }
 },
 "nbformat": 4,
 "nbformat_minor": 2
}
